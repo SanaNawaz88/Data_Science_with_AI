{
 "cells": [
  {
   "cell_type": "code",
   "execution_count": 1,
   "id": "b7e926f6-3f9b-4892-8c49-3a6174c937c4",
   "metadata": {},
   "outputs": [],
   "source": [
    "#1 what is Numpy and why it is important for datascience?\n",
    "Numpy is python library for numerical operation.\n",
    "#2Expalin difference between python list and numpy array?\n",
    "NumPy arrays are stored only one type of data.( for large datasets because they store data in contiguous memory blocks) \n",
    "Python list storerd multiple type of data."
   ]
  },
  {
   "cell_type": "code",
   "execution_count": 11,
   "id": "924fab85-61e2-4659-b802-d7ee9a1109e6",
   "metadata": {},
   "outputs": [
    {
     "name": "stdout",
     "output_type": "stream",
     "text": [
      "[[0. 0. 0. 0. 0. 0.]\n",
      " [0. 0. 0. 0. 0. 0.]\n",
      " [0. 0. 0. 0. 0. 0.]\n",
      " [0. 0. 0. 0. 0. 0.]]\n"
     ]
    }
   ],
   "source": [
    "#3How do yo can create numpy arrray of zeros with  a specific shape?\n",
    "import numpy as np\n",
    "array=np.zeros((4,6))\n",
    "print(array)"
   ]
  },
  {
   "cell_type": "code",
   "execution_count": 15,
   "id": "2cbf7d57-fb33-4b7b-aab9-bb0afc49ee46",
   "metadata": {},
   "outputs": [],
   "source": [
    "#4What are the common datatype in nmpy?\n",
    "int,float,doble,string etc...."
   ]
  },
  {
   "cell_type": "code",
   "execution_count": 23,
   "id": "c2bc60d7-9bad-44d1-964d-0214ca2c6fce",
   "metadata": {},
   "outputs": [
    {
     "name": "stdout",
     "output_type": "stream",
     "text": [
      "[5 7 9]\n"
     ]
    }
   ],
   "source": [
    "#5(a)How do yo perform element_wise addition,subtraction,multiplication,division in Numpy arrays?\n",
    "import numpy as np\n",
    "arr1 = np.array([1, 2, 3])\n",
    "arr2 = np.array([4, 5, 6])\n",
    "result = arr1 + arr2\n",
    "print(result)  "
   ]
  },
  {
   "cell_type": "code",
   "execution_count": 31,
   "id": "3bb77569-61c5-4263-b790-999fbbe8521b",
   "metadata": {},
   "outputs": [
    {
     "name": "stdout",
     "output_type": "stream",
     "text": [
      "[-3 -3 -3]\n"
     ]
    }
   ],
   "source": [
    "#5(b)\n",
    "import numpy as np\n",
    "arr1 = np.array([1, 2, 3])\n",
    "arr2 = np.array([4, 5, 6])\n",
    "result = arr1 - arr2\n",
    "print(result)"
   ]
  },
  {
   "cell_type": "code",
   "execution_count": 27,
   "id": "f49deb01-8365-4138-b842-166e78ac8040",
   "metadata": {},
   "outputs": [
    {
     "name": "stdout",
     "output_type": "stream",
     "text": [
      "[ 4 10 18]\n"
     ]
    }
   ],
   "source": [
    "#5(c)\n",
    "import numpy as np\n",
    "arr1 = np.array([1, 2, 3])\n",
    "arr2 = np.array([4, 5, 6])\n",
    "result = arr1 * arr2\n",
    "print(result)"
   ]
  },
  {
   "cell_type": "code",
   "execution_count": 33,
   "id": "c223cf9c-aa4e-4ced-9db2-bcbd8cf170c3",
   "metadata": {},
   "outputs": [
    {
     "name": "stdout",
     "output_type": "stream",
     "text": [
      "[0.25 0.4  0.5 ]\n"
     ]
    }
   ],
   "source": [
    "#5(d)\n",
    "import numpy as np\n",
    "arr1 = np.array([1, 2, 3])\n",
    "arr2 = np.array([4, 5, 6])\n",
    "result = arr1 / arr2\n",
    "print(result)"
   ]
  },
  {
   "cell_type": "code",
   "execution_count": null,
   "id": "e837d42c-5cb5-4c89-b90e-d111bb79db4d",
   "metadata": {},
   "outputs": [],
   "source": [
    "#6Explain the concept of numpy slicing in Numpy?\n",
    "Slicing in NumPy issed to extracting range of data from specific portion.\n",
    "This works for both one-dimensional (1D) and multidimensional arrays                                                                                                                        "
   ]
  },
  {
   "cell_type": "code",
   "execution_count": 49,
   "id": "99fb1075-2bde-47f6-b162-9962367a0318",
   "metadata": {},
   "outputs": [
    {
     "name": "stdout",
     "output_type": "stream",
     "text": [
      "[20 30]\n"
     ]
    }
   ],
   "source": [
    "#6\n",
    "import numpy as np\n",
    "arr=np.array([10,20,30,40,50])\n",
    "por=arr[1:3]\n",
    "print(por)"
   ]
  },
  {
   "cell_type": "code",
   "execution_count": null,
   "id": "e39ee503-caaa-4d8f-b076-77531a0c23d9",
   "metadata": {},
   "outputs": [],
   "source": [
    "#7How do you find mean,median,mode in numpy array?\n",
    "Mean:sum of all number in dataset \n",
    "Median:middle value of dataset\n",
    "Mode:most repeated dataset"
   ]
  },
  {
   "cell_type": "code",
   "execution_count": 53,
   "id": "045de606-3d64-461a-9e23-26b6249979da",
   "metadata": {},
   "outputs": [
    {
     "name": "stdout",
     "output_type": "stream",
     "text": [
      "3.0\n"
     ]
    }
   ],
   "source": [
    "#7(a)\n",
    "import numpy as np\n",
    "arr = np.array([1, 2, 3, 4, 5])\n",
    "mean = np.mean(arr)\n",
    "print( mean)"
   ]
  },
  {
   "cell_type": "code",
   "execution_count": 55,
   "id": "5673b7c0-bd81-4dba-b7ec-8aae5411babd",
   "metadata": {},
   "outputs": [
    {
     "name": "stdout",
     "output_type": "stream",
     "text": [
      "3.0\n"
     ]
    }
   ],
   "source": [
    "#7(b)\n",
    "import numpy as np\n",
    "arr = np.array([1, 2, 3, 4, 5])\n",
    "median = np.median(arr)\n",
    "print(median)"
   ]
  },
  {
   "cell_type": "code",
   "execution_count": 79,
   "id": "1b9c8808-b3d4-4a17-ae2f-3f6f9e8cc7bc",
   "metadata": {},
   "outputs": [
    {
     "name": "stdout",
     "output_type": "stream",
     "text": [
      "ModeResult(mode=2, count=2)\n"
     ]
    }
   ],
   "source": [
    "#7(c)\n",
    "import numpy as np\n",
    "from scipy import stats\n",
    "arr = np.array([1, 2, 3, 4, 5,2])\n",
    "mode = stats.mode(arr)\n",
    "print(mode)"
   ]
  },
  {
   "cell_type": "code",
   "execution_count": null,
   "id": "a99df843-ed49-4a17-97c4-3c3d91b0632b",
   "metadata": {},
   "outputs": [],
   "source": [
    "#8what is broadcoasting in numpy  and how does it work?\n",
    "Broadcasting in NumPy lets arrays with different shapes work together in operations\n",
    "by automatically adjusting their shapes without copying data."
   ]
  },
  {
   "cell_type": "code",
   "execution_count": 81,
   "id": "50ed7677-fdb2-4761-a9b4-981feaa07d84",
   "metadata": {},
   "outputs": [
    {
     "name": "stdout",
     "output_type": "stream",
     "text": [
      "[6 7 8]\n"
     ]
    }
   ],
   "source": [
    "#8\n",
    "import numpy as np\n",
    "arr = np.array([1, 2, 3])\n",
    "scalar = 5\n",
    "# Broadcasting the scalar to match the array\n",
    "result = arr + scalar\n",
    "print(result) "
   ]
  },
  {
   "cell_type": "code",
   "execution_count": null,
   "id": "73ed4472-b24c-4f55-b113-c8793fbc508b",
   "metadata": {},
   "outputs": [],
   "source": [
    "#9what is pandas and what are its key data structure?\n",
    "Pandas is a powerful Python library used for data manipulation and anaysis.\n",
    "This handling structured data for time series and tabular data."
   ]
  },
  {
   "cell_type": "code",
   "execution_count": 83,
   "id": "6d632bcb-3411-40af-81fc-add69b7bba00",
   "metadata": {},
   "outputs": [],
   "source": [
    "#9(Series)\n",
    "import pandas as pd\n",
    "series = pd.Series([1, 2, 3, 4])\n",
    "#9(DataFrame)\n",
    "df = pd.DataFrame({\n",
    "    \"Name\": [\"Ezzan, \"Bilal\", \"Charly\"],\n",
    "    \"Age\": [25, 30, 35]\n",
    "})....."
   ]
  },
  {
   "cell_type": "code",
   "execution_count": 87,
   "id": "23817ac3-38e7-49c8-b43e-b09898da4c6b",
   "metadata": {},
   "outputs": [],
   "source": [
    "#10How do you import data from csv file into a pandas DataFrame?\n",
    "import pandas as pd\n",
    "df = pd.read_csv('file_path.csv')\n",
    "print(df)"
   ]
  },
  {
   "cell_type": "code",
   "execution_count": 18,
   "id": "b395d04d-56ce-4856-8e6b-0ddc309be4e8",
   "metadata": {},
   "outputs": [
    {
     "name": "stdout",
     "output_type": "stream",
     "text": [
      "0    7\n",
      "1    8\n",
      "2    9\n",
      "Name: C, dtype: int64\n"
     ]
    }
   ],
   "source": [
    "#11(a)How do you select specifice column or rows from DataFrame?\n",
    "import pandas as pd\n",
    "data = {\n",
    "    \"A\": [1, 2, 3],\n",
    "    \"B\": [4, 5, 6],\n",
    "    \"C\": [7, 8, 9]\n",
    "}\n",
    "df = pd.DataFrame(data)\n",
    "#single column\n",
    "column_a = df[\"C\"]\n",
    "#select single colmns\n",
    "column_a = df.loc[:,\"C\"]\n",
    "print(column_a)"
   ]
  },
  {
   "cell_type": "code",
   "execution_count": 22,
   "id": "6eb9b54e-d6ac-47a5-84d3-5e1800a0b9b7",
   "metadata": {},
   "outputs": [
    {
     "name": "stdout",
     "output_type": "stream",
     "text": [
      "   A  B\n",
      "0  1  4\n",
      "1  2  5\n",
      "2  3  6\n"
     ]
    }
   ],
   "source": [
    "#(b)\n",
    "import pandas as pd\n",
    "data = {\n",
    "    \"A\": [1, 2, 3],\n",
    "    \"B\": [4, 5, 6],\n",
    "    \"C\": [7, 8, 9]\n",
    "}\n",
    "df = pd.DataFrame(data)\n",
    "#multiple column \n",
    "columns_ab = df[[\"A\", \"B\"]]\n",
    "# Select multiple columns\n",
    "columns_ab = df.loc[:, [\"A\", \"B\"]]\n",
    "print(columns_ab)"
   ]
  },
  {
   "cell_type": "code",
   "execution_count": null,
   "id": "13a5e45c-a616-44b1-9eab-5c552d06efbd",
   "metadata": {},
   "outputs": [],
   "source": [
    "#12.(A)Explain the difference between the loc and iloc indexers in Pandas.\n",
    "*loc work with labels.\n",
    "->Label-based (row/column names)\n",
    "->Includes the end of the range\n",
    "*iloc work with positions.\n",
    "->Position-based (integer indices)\n",
    "->Excludes the end of the range                                                                    "
   ]
  },
  {
   "cell_type": "code",
   "execution_count": 1,
   "id": "808e1814-96e6-40fd-8f04-ca41b52af9c7",
   "metadata": {},
   "outputs": [
    {
     "name": "stdout",
     "output_type": "stream",
     "text": [
      "5\n"
     ]
    }
   ],
   "source": [
    "#12(A)\n",
    "import pandas as pd\n",
    "data = {\"A\": [1, 2, 3], \n",
    "        \"B\": [4, 5, 6], \n",
    "        \"C\": [7, 8, 9]}\n",
    "df = pd.DataFrame(data, index=[\"row1\", \"row2\", \"row3\"])\n",
    "# Using loc\n",
    "print(df.loc[\"row2\", \"B\"])  "
   ]
  },
  {
   "cell_type": "code",
   "execution_count": 28,
   "id": "e7755b5a-4130-4d0f-998f-22d7fc4219f2",
   "metadata": {},
   "outputs": [
    {
     "name": "stdout",
     "output_type": "stream",
     "text": [
      "8\n"
     ]
    }
   ],
   "source": [
    "#12(A)\n",
    "import pandas as pd\n",
    "data = {\"A\": [1, 2, 3], \n",
    "        \"B\": [4, 5, 6], \n",
    "        \"C\": [7, 8, 9]}\n",
    "df = pd.DataFrame(data, index=[\"row1\", \"row2\", \"row3\"])\n",
    "#Using iloc\n",
    "print(df.iloc[1, 2]) "
   ]
  },
  {
   "cell_type": "code",
   "execution_count": null,
   "id": "da186f22-d415-4204-a4ff-4161be93112f",
   "metadata": {},
   "outputs": [],
   "source": [
    "#13.How do you handle missing values (NaN) in a DataFrame?\n",
    "isnull() ,notnull().\n",
    "fillna() ,dropna()"
   ]
  },
  {
   "cell_type": "code",
   "execution_count": 5,
   "id": "dfbd3df4-573a-4232-aed5-b844cc3bf4bb",
   "metadata": {},
   "outputs": [
    {
     "name": "stdout",
     "output_type": "stream",
     "text": [
      "   A    B    C\n",
      "3  4  4.0  4.0\n"
     ]
    }
   ],
   "source": [
    "#13(A)\n",
    "import pandas as pd\n",
    "import numpy as np\n",
    "data = {\"A\": [1, 2,0 , 4],\n",
    "        \"B\": [np.nan, 2, 3, 4], \n",
    "        \"C\": [1, np.nan, np.nan, 4]}\n",
    "df = pd.DataFrame(data)\n",
    "df=df.dropna(axis=0)\n",
    "print(df)"
   ]
  },
  {
   "cell_type": "code",
   "execution_count": 3,
   "id": "29b172d3-a691-45ac-8f3f-179453ad598a",
   "metadata": {},
   "outputs": [
    {
     "name": "stdout",
     "output_type": "stream",
     "text": [
      "   A  B    C\n",
      "0  1  0  1.0\n",
      "1  2  2  0.0\n",
      "2  0  3  0.0\n",
      "3  4  4  4.0\n"
     ]
    }
   ],
   "source": [
    "#13(A)\n",
    "import pandas as pd\n",
    "import numpy as np\n",
    "data = {\"A\": [1, 2,0 , 4],\n",
    "        \"B\": [0, 2, 3, 4], \n",
    "        \"C\": [1, np.nan, np.nan, 4]}\n",
    "df = pd.DataFrame(data)\n",
    "df = df.fillna(0)\n",
    "print(df)"
   ]
  },
  {
   "cell_type": "code",
   "execution_count": 7,
   "id": "8009cbc3-2442-442a-90f4-2715cbe41034",
   "metadata": {},
   "outputs": [
    {
     "name": "stdout",
     "output_type": "stream",
     "text": [
      "   A  B\n",
      "3  4  2\n",
      "4  5  1\n"
     ]
    }
   ],
   "source": [
    "#14.How do you filter rows in a DataFrame based on conditions?\n",
    "#(like <,>,<=,>=)\n",
    "import pandas as pd\n",
    "data = {\"A\": [1, 2, 3, 4, 5],\n",
    "        \"B\": [5, 4, 3, 2, 1]}\n",
    "df = pd.DataFrame(data)\n",
    "# Filter rows where A is greater than 3\n",
    "filtered_df = df[df[\"A\"] > 3]\n",
    "print(filtered_df)"
   ]
  },
  {
   "cell_type": "code",
   "execution_count": 9,
   "id": "f1a37518-8ce8-41c2-9bd1-bf7991bd834a",
   "metadata": {},
   "outputs": [
    {
     "name": "stdout",
     "output_type": "stream",
     "text": [
      "Category\n",
      "A     90\n",
      "B    120\n",
      "Name: Value, dtype: int64\n"
     ]
    }
   ],
   "source": [
    "#15.How do you group data in a DataFrame and perform aggregations?\n",
    "import pandas as pd\n",
    "data = {\"Category\": [\"A\", \"B\", \"A\", \"B\", \"A\", \"B\"],\n",
    "        \"Value\": [10, 20, 30, 40, 50, 60]}\n",
    "df = pd.DataFrame(data)\n",
    "group_df = df.groupby(\"Category\")[\"Value\"].sum()\n",
    "print(group_df)"
   ]
  },
  {
   "cell_type": "code",
   "execution_count": 69,
   "id": "eba019c1-3e93-4c64-aa0f-68d4b3c4f7a6",
   "metadata": {},
   "outputs": [
    {
     "name": "stdout",
     "output_type": "stream",
     "text": [
      "   A  B\n",
      "0  1  3\n",
      "1  2  4\n",
      "0  5  7\n",
      "1  6  8\n"
     ]
    }
   ],
   "source": [
    "#16.What is the difference between concat and merge in Pandas?\n",
    "#(A)concate\n",
    "import pandas as pd\n",
    "df1 = pd.DataFrame({\"A\": [1, 2],\n",
    "                    \"B\": [3, 4]})\n",
    "df2 = pd.DataFrame({\"A\": [5, 6], \n",
    "                    \"B\": [7, 8]})\n",
    "result = pd.concat([df1, df2])\n",
    "print(result)\n"
   ]
  },
  {
   "cell_type": "code",
   "execution_count": 75,
   "id": "a7f59be8-b963-4d1a-912a-39781e9cf772",
   "metadata": {},
   "outputs": [
    {
     "name": "stdout",
     "output_type": "stream",
     "text": [
      "   ID  A  B\n",
      "0   1  3  5\n",
      "1   2  4  6\n"
     ]
    }
   ],
   "source": [
    "#16(A)\n",
    "#merge\n",
    "import pandas as pd\n",
    "df1 = pd.DataFrame({\"ID\": [1, 2], \n",
    "                    \"A\": [3, 4]})\n",
    "df2 = pd.DataFrame({\"ID\": [1, 2], \n",
    "                    \"B\": [5, 6]})\n",
    "result = pd.merge(df1, df2, on=\"ID\")\n",
    "print(result)"
   ]
  },
  {
   "cell_type": "code",
   "execution_count": null,
   "id": "eb7d72df-d8f0-4706-969e-efe47c7e0db5",
   "metadata": {},
   "outputs": [],
   "source": [
    "'''#17.You have two DataFrames with some overlapping columns. Describe how \n",
    "you would perform an outer join and explain the significance of an outer join \n",
    "compared to an inner join.'''\n",
    "Outer Join: Keeps all rows, filling with NaN where there are no matches.\n",
    "Inner Join: Only keeps rows with matching values in both DataFrames.\n"
   ]
  },
  {
   "cell_type": "code",
   "execution_count": 81,
   "id": "42b2f37e-26d5-47d1-bf0a-71260f9df028",
   "metadata": {},
   "outputs": [
    {
     "name": "stdout",
     "output_type": "stream",
     "text": [
      "   ID     A      B\n",
      "0   1  10.0    NaN\n",
      "1   2  20.0  200.0\n",
      "2   3  30.0  300.0\n",
      "3   4   NaN  400.0\n"
     ]
    }
   ],
   "source": [
    "#17(A)outer join:\n",
    "import pandas as pd\n",
    "df1 = pd.DataFrame({\"ID\": [1, 2, 3], \n",
    "                    \"A\": [10, 20, 30]})\n",
    "df2 = pd.DataFrame({\"ID\": [2, 3, 4], \n",
    "                    \"B\": [200, 300, 400]})\n",
    "outer_join = pd.merge(df1, df2, on=\"ID\", how='outer')\n",
    "print(outer_join)"
   ]
  },
  {
   "cell_type": "code",
   "execution_count": 11,
   "id": "1b3222e5-3810-40c7-bad8-63ea513a096f",
   "metadata": {},
   "outputs": [
    {
     "name": "stdout",
     "output_type": "stream",
     "text": [
      "   ID   A    B\n",
      "0   2  20  200\n",
      "1   3  30  300\n"
     ]
    }
   ],
   "source": [
    "#17(A)Inner join:\n",
    "import pandas as pd\n",
    "df1 = pd.DataFrame({\"ID\": [1, 2, 3], \n",
    "                    \"A\": [10, 20, 30]})\n",
    "df2 = pd.DataFrame({\"ID\": [2, 3, 4], \n",
    "                    \"B\": [200, 300, 400]})\n",
    "inner_join = pd.merge(df1, df2, on=\"ID\", how='inner')\n",
    "print(inner_join)"
   ]
  },
  {
   "cell_type": "code",
   "execution_count": 89,
   "id": "086bcb3c-0586-48ab-9861-dbf806b883de",
   "metadata": {},
   "outputs": [
    {
     "name": "stdout",
     "output_type": "stream",
     "text": [
      "[4, 5, 6, 7]\n"
     ]
    }
   ],
   "source": [
    "'''#18.Explain the concept of vectorization in NumPy. How does it improve the \n",
    "performance of numerical computations?'''\n",
    "#concept:\n",
    "import numpy as np\n",
    "arr = np.array([1, 2, 3, 4])\n",
    "result = []\n",
    "for i in arr:\n",
    "    result.append(i + 3)\n",
    "print(result)"
   ]
  },
  {
   "cell_type": "code",
   "execution_count": 104,
   "id": "2796c54d-c825-472e-88d7-9913ed2c122d",
   "metadata": {},
   "outputs": [
    {
     "name": "stdout",
     "output_type": "stream",
     "text": [
      "vectorized time: 0.009949445724487305\n",
      "Loop time: 0.8572535514831543\n"
     ]
    }
   ],
   "source": [
    "#18(A)Performance:\n",
    "import numpy as np\n",
    "import time\n",
    "arr1 = np.random.rand(1000000)\n",
    "arr2 = np.random.rand(1000000)\n",
    "start = time.time()\n",
    "result_vectorized = arr1 + arr2\n",
    "print( \"vectorized time:\",time.time() - start)\n",
    "start = time.time()\n",
    "result_loop = [arr1[i] + arr2[i] for i in range(len(arr1))]\n",
    "print(\"Loop time:\", time.time() - start)"
   ]
  },
  {
   "cell_type": "code",
   "execution_count": 1,
   "id": "f9d5ae35-dfc9-4d3e-b129-7627142743bf",
   "metadata": {},
   "outputs": [
    {
     "name": "stdout",
     "output_type": "stream",
     "text": [
      "        Date\n",
      "0 2021-01-01\n",
      "1 2021-02-01\n",
      "2 2021-03-01\n"
     ]
    }
   ],
   "source": [
    "'''#19.You have a DataFrame with a column containing dates. How would you: (a) \n",
    "Convert the date column to a datetime object? (b) Extract the year, month, \n",
    "and day from the dates? (c) Filter the DataFrame to select data from a specific \n",
    "date range'''\n",
    "#(a)DateTime\n",
    "import pandas as pd\n",
    "data = {'Date': ['2021-01-01', \n",
    "                 '2021-02-01',\n",
    "                 '2021-03-01']}\n",
    "df = pd.DataFrame(data)\n",
    "df['Date'] = pd.to_datetime(df['Date'])\n",
    "print(df)\n"
   ]
  },
  {
   "cell_type": "code",
   "execution_count": 11,
   "id": "3874782b-18e9-4e8e-8bc4-25da757d8f38",
   "metadata": {},
   "outputs": [
    {
     "name": "stdout",
     "output_type": "stream",
     "text": [
      "        Date  Year  Month  Day\n",
      "0 2021-01-01  2021      1    1\n",
      "1 2021-02-01  2021      2    1\n",
      "2 2021-03-01  2021      3    1\n"
     ]
    }
   ],
   "source": [
    "#(b)Year,Month,Day:\n",
    "import pandas as pd\n",
    "df['Year'] = df['Date'].dt.year\n",
    "df['Month'] = df['Date'].dt.month\n",
    "df['Day'] = df['Date'].dt.day\n",
    "print(df)"
   ]
  },
  {
   "cell_type": "code",
   "execution_count": 9,
   "id": "f6ff4dbe-4d6d-4ebb-8f0a-bffe83fd1bf3",
   "metadata": {},
   "outputs": [
    {
     "name": "stdout",
     "output_type": "stream",
     "text": [
      "        Date  Year  Month  Day\n",
      "0 2021-01-01  2021      1    1\n",
      "1 2021-02-01  2021      2    1\n"
     ]
    }
   ],
   "source": [
    "#(c)Fliter the DataFrame from data Range:\n",
    "import pandas as pd\n",
    "start_date = '2021-01-01'\n",
    "end_date = '2021-02-01'\n",
    "filtered_df = df[(df['Date'] >= start_date) & (df['Date'] <= end_date)]\n",
    "print(filtered_df)"
   ]
  },
  {
   "cell_type": "code",
   "execution_count": 13,
   "id": "bf0b9fbd-483f-4616-ba45-18ba21a70326",
   "metadata": {},
   "outputs": [
    {
     "name": "stdout",
     "output_type": "stream",
     "text": [
      "Store\n",
      "A    176.666667\n",
      "B    250.000000\n",
      "Name: Sales Amount, dtype: float64\n"
     ]
    }
   ],
   "source": [
    "'''#20..Describe a scenario where you would use a GroupBy operation in Pandas, \n",
    "and explain how you would perform an aggregation (e.g., calculate the \n",
    "average) within each group'''\n",
    "#GroupBy in Pandas groups data based on a column and calculates things like average or total for each group to find pattern.\n",
    "import pandas as pd\n",
    "data = { \"Store\": [\"A\", \"B\", \"A\", \"B\", \"A\", \"B\"],\n",
    "         \"Date\": ['2023-01-01', '2023-01-01', '2023-01-02', '2023-01-02', '2023-01-03', '2023-01-03'],\n",
    "        \"Sales Amount\": [150, 200, 180, 250, 200, 300]\n",
    "}\n",
    "df = pd.DataFrame(data)\n",
    "# Store and calculate the average sales amount\n",
    "grouped = df.groupby(\"Store\")[\"Sales Amount\"].mean()\n",
    "print(grouped)\n"
   ]
  }
 ],
 "metadata": {
  "kernelspec": {
   "display_name": "Python [conda env:base] *",
   "language": "python",
   "name": "conda-base-py"
  },
  "language_info": {
   "codemirror_mode": {
    "name": "ipython",
    "version": 3
   },
   "file_extension": ".py",
   "mimetype": "text/x-python",
   "name": "python",
   "nbconvert_exporter": "python",
   "pygments_lexer": "ipython3",
   "version": "3.12.4"
  }
 },
 "nbformat": 4,
 "nbformat_minor": 5
}
