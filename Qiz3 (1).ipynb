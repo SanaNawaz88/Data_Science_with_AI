{
 "cells": [
  {
   "cell_type": "code",
   "execution_count": null,
   "id": "4d12f994-eb2e-442d-97c2-d0d87dde2632",
   "metadata": {},
   "outputs": [],
   "source": [
    "#Q1)What is Python and why it is used in data science?\n",
    "Python is a high level language used in data science to analyze and process data easily."
   ]
  },
  {
   "cell_type": "code",
   "execution_count": null,
   "id": "28386629-bf5e-437a-91be-7e6d621267d6",
   "metadata": {},
   "outputs": [],
   "source": [
    "#Q2)Explain the difference between a variable and a constant in Python.\n",
    "A variable in Python is a name used to store a value that can change during the program execution.\n",
    "A constant is a value that does not change throughout the program.\n",
    "e.g:\n",
    "#Variable\n",
    "x = 5  # Value of x can change\n",
    "x = 10  # Now x is 10\n",
    "# Constant \n",
    "PI = 3.14  "
   ]
  },
  {
   "cell_type": "code",
   "execution_count": null,
   "id": "66df5a97-6540-43e7-8e9c-780e8890436c",
   "metadata": {},
   "outputs": [],
   "source": [
    "#Q3)How do you create a Python dictionary, and how is it different from a list?\n",
    "To create a Python library, write a Python file e.g., mylibrary.py containing functions and classes, and then save it in a directory that can be imported into other projects.\n",
    "A *list* is a built-in data structure in Python used to store ordered collections of items, whereas a library is a collection of reusable code, typically packaged for modular use."
   ]
  },
  {
   "cell_type": "code",
   "execution_count": null,
   "id": "b265d7ca-65be-42f9-9298-912722790d22",
   "metadata": {},
   "outputs": [],
   "source": [
    "#Q4)What are Python tuples, and when would you use them over lists?\n",
    "A Python tuple is an ordered collection of elements similar to a list, but it is immutable (cannot be changed after creation). \n",
    "Tuples are created using parentheses () \n",
    "e.g:my_tuple = (1, 2, 3)"
   ]
  },
  {
   "cell_type": "code",
   "execution_count": 1,
   "id": "1fdf1abb-d7e5-434d-bb2f-93388fdc2967",
   "metadata": {},
   "outputs": [
    {
     "name": "stdout",
     "output_type": "stream",
     "text": [
      "10\n"
     ]
    }
   ],
   "source": [
    "#Q5)Write a Python function that takes two numbers as arguments and returns their sum?\n",
    "def add_numbers(a, b):\n",
    "    return a + b\n",
    "result = add_numbers(5, 5)\n",
    "print(result)"
   ]
  },
  {
   "cell_type": "code",
   "execution_count": null,
   "id": "aff36cd1-5e5a-4718-9026-4b002e2dd3f9",
   "metadata": {},
   "outputs": [],
   "source": [
    "#Q6)Explain the difference between axis 0 and axis 1 in NumPy.\n",
    "In NumPy, *axis 0* refers to the vertical axis (rows), while *axis 1* refers to the horizontal axis (columns). \n",
    "Operations along axis 0 perform calculations across rows,\n",
    "while operations along axis 1 perform calculations across columns."
   ]
  },
  {
   "cell_type": "code",
   "execution_count": 3,
   "id": "54894189-bf64-4b93-b428-37d42e98acd1",
   "metadata": {},
   "outputs": [
    {
     "name": "stdout",
     "output_type": "stream",
     "text": [
      "18\n"
     ]
    }
   ],
   "source": [
    "#Q7)What are some common aggregation functions in NumPy (e.g., sum, mean)?Provide examples\n",
    "#(Sum)\n",
    "import numpy as np\n",
    "arr = np.array([1, 7, 4, 6])\n",
    "print(np.sum(arr))"
   ]
  },
  {
   "cell_type": "code",
   "execution_count": 5,
   "id": "1ddcf302-2bb3-4316-aeba-57719066dd31",
   "metadata": {},
   "outputs": [
    {
     "name": "stdout",
     "output_type": "stream",
     "text": [
      "4.5\n"
     ]
    }
   ],
   "source": [
    "#Q7(Mean)\n",
    "import numpy as np\n",
    "arr = np.array([1, 7, 4, 6])\n",
    "print(np.mean(arr))"
   ]
  },
  {
   "cell_type": "code",
   "execution_count": 7,
   "id": "ccc73956-3951-4172-aeee-3d7b3aed929c",
   "metadata": {},
   "outputs": [
    {
     "name": "stdout",
     "output_type": "stream",
     "text": [
      "1\n"
     ]
    }
   ],
   "source": [
    "#Q7(Minimum)\n",
    "import numpy as np\n",
    "arr = np.array([1, 7, 4, 6])\n",
    "print(np.min(arr))"
   ]
  },
  {
   "cell_type": "code",
   "execution_count": 9,
   "id": "46793ee8-97d0-4171-8109-8ac12dc64182",
   "metadata": {},
   "outputs": [
    {
     "name": "stdout",
     "output_type": "stream",
     "text": [
      "7\n"
     ]
    }
   ],
   "source": [
    "#Q7(Maximum)\n",
    "import numpy as np\n",
    "arr = np.array([1, 7, 4, 6])\n",
    "print(np.max(arr))"
   ]
  },
  {
   "cell_type": "code",
   "execution_count": 13,
   "id": "ea3830b2-6173-48d0-85e8-d5f53b37bdcf",
   "metadata": {},
   "outputs": [
    {
     "name": "stdout",
     "output_type": "stream",
     "text": [
      "2.29128784747792\n"
     ]
    }
   ],
   "source": [
    "#Q7( standard deviation)\n",
    "import numpy as np\n",
    "arr = np.array([1, 7, 4, 6])\n",
    "print(np.std(arr))\n"
   ]
  },
  {
   "cell_type": "code",
   "execution_count": null,
   "id": "a82cc16d-80ae-4bc4-9a84-80408c32f830",
   "metadata": {},
   "outputs": [],
   "source": [
    "#Q8)What is broadcasting in NumPy? Explain with an example?\n",
    "Broadcasting in NumPy is a technique that allows operations on arrays of \n",
    "different shapes and sizes to be performed without explicitly reshaping them."
   ]
  },
  {
   "cell_type": "code",
   "execution_count": 2,
   "id": "dc58d683-a316-4bbc-bfef-9cab1ba26f8e",
   "metadata": {},
   "outputs": [
    {
     "name": "stdout",
     "output_type": "stream",
     "text": [
      "    Name  Age       City\n",
      "0    Ali   25   New York\n",
      "1  Bilal   30  Rawalakot\n",
      "2   Sara   35     Lahore\n"
     ]
    }
   ],
   "source": [
    "#Q9)How do you create a Pandas DataFrame from a dictionary?\n",
    "import pandas as pd\n",
    "data = {\n",
    "    \"Name\": [\"Ali\", \"Bilal\", \"Sara\"],\n",
    "    \"Age\": [25, 30, 35],\n",
    "    \"City\": [\"New York\", \"Rawalakot\", \"Lahore\"]\n",
    "}\n",
    "df = pd.DataFrame(data)\n",
    "print(df)"
   ]
  },
  {
   "cell_type": "code",
   "execution_count": 17,
   "id": "90df3867-bc60-4bf3-9c18-e6d4f51df8dc",
   "metadata": {},
   "outputs": [
    {
     "name": "stdout",
     "output_type": "stream",
     "text": [
      "0    1\n",
      "1    2\n",
      "2    3\n",
      "dtype: int64\n"
     ]
    }
   ],
   "source": [
    "#Q10)What are the key differences between a Pandas Series and a Pandas DataFrame?\n",
    "#Pandas Series:\n",
    "s = pd.Series([1, 2, 3])\n",
    "print(s)\n"
   ]
  },
  {
   "cell_type": "code",
   "execution_count": 4,
   "id": "6815004d-57d8-4272-b1cd-dffeefab4c2b",
   "metadata": {},
   "outputs": [
    {
     "name": "stdout",
     "output_type": "stream",
     "text": [
      "   A  B\n",
      "0  1  4\n",
      "1  2  5\n",
      "2  3  6\n"
     ]
    }
   ],
   "source": [
    "#Pandas DataFrame:\n",
    "data = {\"A\": [1, 2, 3], \n",
    "        \"B\": [4, 5, 6]}\n",
    "df = pd.DataFrame(data)\n",
    "print(df)"
   ]
  },
  {
   "cell_type": "code",
   "execution_count": 25,
   "id": "46b2d4b0-54b6-40f6-82c1-110fd0cb50c0",
   "metadata": {},
   "outputs": [
    {
     "name": "stdout",
     "output_type": "stream",
     "text": [
      "     Name  Age        City\n",
      "0     Ali   25    Pashawer\n",
      "1   Bilal   30   Rawalakot\n",
      "2    Sara   35     Karachi\n",
      "3  Danish   40  Pothi Bala\n",
      "4     Eva   45      Lahore\n"
     ]
    }
   ],
   "source": [
    "#Q11)How do you display the first five rows of a Pandas DataFrame?\n",
    "import pandas as pd\n",
    "df = pd.DataFrame({\n",
    "    \"Name\": [\"Ali\", \"Bilal\", \"Sara\", \"Danish\", \"Eva\"],\n",
    "    \"Age\": [25, 30, 35, 40, 45],\n",
    "    \"City\": [\"Pashawer\", \"Rawalakot\", \"Karachi\", \"Pothi Bala\",\"Lahore\"]\n",
    "})\n",
    "print(df.head())"
   ]
  },
  {
   "cell_type": "code",
   "execution_count": 27,
   "id": "64c5269d-47b6-4aa8-9106-1fbfb912303d",
   "metadata": {},
   "outputs": [
    {
     "name": "stdout",
     "output_type": "stream",
     "text": [
      "  Full Name  Age(years)        City\n",
      "0       Ali          25    Pashawer\n",
      "1     Bilal          30   Rawalakot\n",
      "2      Sara          35     Karachi\n",
      "3    Danish          40  Pothi Bala\n",
      "4       Eva          45      Lahore\n"
     ]
    }
   ],
   "source": [
    "#Q12)How can you rename the columns of a Pandas DataFrame?\n",
    "import pandas as pd\n",
    "df = pd.DataFrame({\n",
    "    \"Name\": [\"Ali\", \"Bilal\", \"Sara\", \"Danish\", \"Eva\"],\n",
    "    \"Age\": [25, 30, 35, 40, 45],\n",
    "    \"City\": [\"Pashawer\", \"Rawalakot\", \"Karachi\", \"Pothi Bala\",\"Lahore\"]\n",
    "})\n",
    "df.rename(columns={\"Name\": \"Full Name\", \"Age\": \"Age(years)\"}, inplace=True)\n",
    "print(df)"
   ]
  },
  {
   "cell_type": "code",
   "execution_count": 47,
   "id": "958d0939-72aa-466f-bac2-e5eae8d31272",
   "metadata": {},
   "outputs": [
    {
     "name": "stdout",
     "output_type": "stream",
     "text": [
      "Name         Ali\n",
      "Age           25\n",
      "City    Pashawer\n",
      "Name: a, dtype: object\n"
     ]
    }
   ],
   "source": [
    "#Q13)What is the difference between the loc and iloc indexers in Pandas? Provide examples.\n",
    "\n",
    "#loc:\n",
    "import pandas as pd\n",
    "data={\"Name\": [\"Ali\", \"Bilal\", \"Sara\", \"Danish\", \"Eva\"],\n",
    "    \"Age\": [25, 30, 35, 40, 45],\n",
    "    \"City\": [\"Pashawer\", \"Rawalakot\", \"Karachi\", \"Pothi Bala\",\"Lahore\"]\n",
    "}\n",
    "df=pd.DataFrame(data,index=[\"a\",\"b\",\"c\",\"d\",\"e\"])\n",
    "print(df.loc[\"a\"])\n"
   ]
  },
  {
   "cell_type": "code",
   "execution_count": 51,
   "id": "96b58a1c-5e4e-4b6d-ae0a-b78e58a67fff",
   "metadata": {},
   "outputs": [
    {
     "name": "stdout",
     "output_type": "stream",
     "text": [
      "Name       Sara\n",
      "Age          35\n",
      "City    Karachi\n",
      "Name: c, dtype: object\n"
     ]
    }
   ],
   "source": [
    "#iloc:\n",
    "import pandas as pd\n",
    "data={\"Name\": [\"Ali\", \"Bilal\", \"Sara\", \"Danish\", \"Eva\"],\n",
    "    \"Age\": [25, 30, 35, 40, 45],\n",
    "    \"City\": [\"Pashawer\", \"Rawalakot\", \"Karachi\", \"Pothi Bala\",\"Lahore\"]\n",
    "}\n",
    "df=pd.DataFrame(data,index=[\"a\",\"b\",\"c\",\"d\",\"e\"])\n",
    "print(df.iloc[2])\n"
   ]
  },
  {
   "cell_type": "code",
   "execution_count": 4,
   "id": "ce479f45-6318-4236-92ec-19d07cd82825",
   "metadata": {},
   "outputs": [
    {
     "name": "stdout",
     "output_type": "stream",
     "text": [
      "     Name  Age\n",
      "2  Charmy   35\n",
      "3  Danish   40\n"
     ]
    }
   ],
   "source": [
    "#Q14)How do you filter rows in a DataFrame based on a condition (e.g., select rows where a column is greater than a specific value)?\n",
    "import pandas as pd\n",
    "data = {\"Name\": [\"Ali\", \"Bilal\", \"Charmy\", \"Danish\"],\n",
    "        \"Age\": [25, 30, 35, 40]}\n",
    "df = pd.DataFrame(data)\n",
    "filtered_df = df[df[\"Age\"] > 30]\n",
    "print(filtered_df)"
   ]
  },
  {
   "cell_type": "code",
   "execution_count": 9,
   "id": "308a30cd-ef69-4284-aed0-cf8a4027f529",
   "metadata": {},
   "outputs": [
    {
     "name": "stdout",
     "output_type": "stream",
     "text": [
      "130\n"
     ]
    }
   ],
   "source": [
    "#Q15).How do you calculate the sum of values in a specific column of a Pandas DataFrame?\n",
    "import pandas as pd\n",
    "data = {\"Name\": [\"Ali\", \"Bilal\", \"Charmy\", \"Danish\"],\n",
    "        \"Age\": [25, 30, 35, 40]}\n",
    "df = pd.DataFrame(data)\n",
    "sum_age = df[\"Age\"].sum()\n",
    "print(sum_age)"
   ]
  },
  {
   "cell_type": "code",
   "execution_count": 11,
   "id": "4027c755-640d-4fc1-abd3-5c4a2a6bd612",
   "metadata": {},
   "outputs": [
    {
     "name": "stdout",
     "output_type": "stream",
     "text": [
      "Product\n",
      "A    550\n",
      "B    450\n",
      "C     50\n",
      "Name: Sales, dtype: int64\n"
     ]
    }
   ],
   "source": [
    "#Q16)Explain how the groupby() function works in Pandas. Provide an example use case.\n",
    "import pandas as pd\n",
    "data = {\"Product\": [\"A\", \"B\", \"A\", \"B\", \"A\", \"C\"],\n",
    "        \"Sales\": [100, 200, 150, 250, 300, 50]}\n",
    "df = pd.DataFrame(data)\n",
    "result = df.groupby(\"Product\")[\"Sales\"].sum()\n",
    "print(result)"
   ]
  },
  {
   "cell_type": "code",
   "execution_count": 17,
   "id": "03c13535-a0fd-4d3c-a506-7b5a8edea2b4",
   "metadata": {},
   "outputs": [
    {
     "name": "stdout",
     "output_type": "stream",
     "text": [
      "     A    B\n",
      "0  1.0  5.0\n",
      "1  2.0  0.0\n",
      "2  0.0  7.0\n",
      "3  4.0  8.0\n"
     ]
    }
   ],
   "source": [
    "#17)How do you handle missing data (NaN) in a Pandas DataFrame?\n",
    "import pandas as pd\n",
    "import numpy as np\n",
    "data = {'A': [1, 2, np.nan, 4],\n",
    "        'B': [5, np.nan, 7, 8]}\n",
    "df = pd.DataFrame(data)\n",
    "df_filled = df.fillna(0)\n",
    "print(df_filled)\n"
   ]
  },
  {
   "cell_type": "code",
   "execution_count": null,
   "id": "99532243-e158-46b3-97dc-50bd2c0756b2",
   "metadata": {},
   "outputs": [],
   "source": [
    "#Q18)What is the purpose of the merge() function in Pandas? How does it differ from concat()?\n",
    "merge(): Combines DataFrames based on a common column or index (like SQL joins).\n",
    "concat(): Stacks DataFrames either vertically or horizontally, without considering common column."
   ]
  },
  {
   "cell_type": "code",
   "execution_count": 21,
   "id": "6ce79da4-0c32-4e78-95fc-7f28be0bd9e9",
   "metadata": {},
   "outputs": [
    {
     "name": "stdout",
     "output_type": "stream",
     "text": [
      "   ID   Name  Age\n",
      "0   1    Ali   25\n",
      "1   2  Bilal   30\n"
     ]
    }
   ],
   "source": [
    "#Q18)Merge:\n",
    "import pandas as pd\n",
    "df1 = pd.DataFrame({\n",
    "    \"ID\": [1, 2, 3],\n",
    "    \"Name\": [\"Ali\", \"Bilal\", \"Charmy\"]\n",
    "})\n",
    "df2 = pd.DataFrame({\n",
    "    \"ID\": [1, 2, 4],\n",
    "    \"Age\": [25, 30, 35]\n",
    "})\n",
    "merg_df = pd.merge(df1, df2, on='ID', how='inner')\n",
    "print(merg_df)"
   ]
  },
  {
   "cell_type": "code",
   "execution_count": 23,
   "id": "00786d71-5e7e-431d-8e59-26f1f5dfaf9c",
   "metadata": {},
   "outputs": [
    {
     "name": "stdout",
     "output_type": "stream",
     "text": [
      "   ID    Name   Age\n",
      "0   1     Ali   NaN\n",
      "1   2   Bilal   NaN\n",
      "2   3  Charmy   NaN\n",
      "3   1     NaN  25.0\n",
      "4   2     NaN  30.0\n",
      "5   4     NaN  35.0\n"
     ]
    }
   ],
   "source": [
    "#Q18)Concatenate:\n",
    "import pandas as pd\n",
    "df1 = pd.DataFrame({\n",
    "    \"ID\": [1, 2, 3],\n",
    "    \"Name\": [\"Ali\", \"Bilal\", \"Charmy\"]\n",
    "})\n",
    "df2 = pd.DataFrame({\n",
    "    \"ID\": [1, 2, 4],\n",
    "    \"Age\": [25, 30, 35]\n",
    "})\n",
    "concat_df = pd.concat([df1, df2], axis=0, ignore_index=True)\n",
    "print(concat_df)\n"
   ]
  },
  {
   "cell_type": "code",
   "execution_count": 25,
   "id": "5049e990-d43a-4188-b580-ffd50a85fb72",
   "metadata": {},
   "outputs": [
    {
     "name": "stdout",
     "output_type": "stream",
     "text": [
      "     Name  Age\n",
      "3  Danish   20\n",
      "0     Ali   25\n",
      "1   Bilal   30\n",
      "2  Charmy   35\n"
     ]
    }
   ],
   "source": [
    "#Q19)How do you sort a Pandas DataFrame by a specific column?\n",
    "import pandas as pd\n",
    "data = {\"Name\": [\"Ali\", \"Bilal\", \"Charmy\", \"Danish\"],\n",
    "        \"Age\": [25, 30, 35, 20]}\n",
    "df = pd.DataFrame(data)\n",
    "sorted_df = df.sort_values(by=\"Age\")\n",
    "print(sorted_df)"
   ]
  },
  {
   "cell_type": "code",
   "execution_count": 39,
   "id": "228a192f-9064-4939-b219-7133198d6ba1",
   "metadata": {},
   "outputs": [
    {
     "name": "stdout",
     "output_type": "stream",
     "text": [
      "CSV file saved\n"
     ]
    }
   ],
   "source": [
    "#Q20).Create a Pandas DataFrame with sample data (e.g., student names and marks) and save it as a CSV file?\n",
    "import pandas as pd\n",
    "data = {\"Name\": [\"Ali\", \"Bilal\", \"Charmy\", \"Danish\"],\n",
    "        \"Marks\": [85, 90, 78, 92]}\n",
    "df = pd.DataFrame(data)\n",
    "# Save DataFrame to CSV file\n",
    "df.to_csv(\"students_marks.csv\", index=False)\n",
    "print(\"CSV file saved\")"
   ]
  }
 ],
 "metadata": {
  "kernelspec": {
   "display_name": "Python [conda env:base] *",
   "language": "python",
   "name": "conda-base-py"
  },
  "language_info": {
   "codemirror_mode": {
    "name": "ipython",
    "version": 3
   },
   "file_extension": ".py",
   "mimetype": "text/x-python",
   "name": "python",
   "nbconvert_exporter": "python",
   "pygments_lexer": "ipython3",
   "version": "3.12.4"
  }
 },
 "nbformat": 4,
 "nbformat_minor": 5
}
